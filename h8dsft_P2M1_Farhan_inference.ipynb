{
 "cells": [
  {
   "cell_type": "markdown",
   "metadata": {},
   "source": [
    "# **X. Model Inference**"
   ]
  },
  {
   "attachments": {},
   "cell_type": "markdown",
   "metadata": {},
   "source": [
    "## Import Libraries"
   ]
  },
  {
   "cell_type": "code",
   "execution_count": 1,
   "metadata": {},
   "outputs": [],
   "source": [
    "import pickle\n",
    "import json\n",
    "import pandas as pd\n",
    "import numpy as np\n",
    "from tensorflow.keras.models import load_model\n"
   ]
  },
  {
   "cell_type": "markdown",
   "metadata": {},
   "source": [
    "## Load Model"
   ]
  },
  {
   "cell_type": "code",
   "execution_count": 2,
   "metadata": {},
   "outputs": [],
   "source": [
    "# Load model\n",
    "with open('full_pipeline.pkl', 'rb') as file_1:\n",
    "  full_pipeline = pickle.load(file_1)\n",
    "\n",
    "# Load ANN Model\n",
    "func_model = load_model('model.h5')"
   ]
  },
  {
   "attachments": {},
   "cell_type": "markdown",
   "metadata": {},
   "source": [
    "## Inferencing"
   ]
  },
  {
   "cell_type": "code",
   "execution_count": 8,
   "metadata": {},
   "outputs": [],
   "source": [
    "# Data Inference\n",
    "data_inf = {\n",
    "        'age' : 37,\n",
    "        'days_since_last_login' : 20,\n",
    "        'avg_time_spent' : 500,\n",
    "        'avg_transaction_value' : 13000,\n",
    "        'avg_frequency_login_days' : 14,\n",
    "        'points_in_wallet' : 1000,\n",
    "        'joining_date' : '2015-06-30',\n",
    "        'last_visit_time' : '22:29:49',\n",
    "        'gender' : 'M',\n",
    "        'region_category' : 'City',\n",
    "        'membership_category' : 'Premium Membership',\n",
    "        'joined_through_referral' : 'Yes',\n",
    "        'preferred_offer_types' : 'Without Offers',\n",
    "        'medium_of_operation' : 'Smartphone',\n",
    "        'internet_option' : 'Mobile_Data',\n",
    "        'used_special_discount' : 'Yes',\n",
    "        'offer_application_preference' : 'No',\n",
    "        'past_complaint' : 'No',\n",
    "        'complaint_status' : 'Unsolved',\n",
    "        'feedback' : 'Too many ads'}\n",
    "\n",
    "df_inf = pd.DataFrame(data_inf, index=[0])"
   ]
  },
  {
   "attachments": {},
   "cell_type": "markdown",
   "metadata": {},
   "source": [
    "Feature Engineering"
   ]
  },
  {
   "cell_type": "code",
   "execution_count": 9,
   "metadata": {},
   "outputs": [],
   "source": [
    "df_final = full_pipeline.transform(df_inf)"
   ]
  },
  {
   "attachments": {},
   "cell_type": "markdown",
   "metadata": {},
   "source": [
    "Model"
   ]
  },
  {
   "cell_type": "code",
   "execution_count": 10,
   "metadata": {},
   "outputs": [
    {
     "name": "stdout",
     "output_type": "stream",
     "text": [
      "1/1 [==============================] - 0s 135ms/step\n"
     ]
    },
    {
     "data": {
      "text/plain": [
       "array([[0]])"
      ]
     },
     "execution_count": 10,
     "metadata": {},
     "output_type": "execute_result"
    }
   ],
   "source": [
    "y_pred_inf = func_model.predict(df_final)\n",
    "y_pred_inf = np.where(y_pred_inf >= 0.5, 1, 0)\n",
    "y_pred_inf"
   ]
  }
 ],
 "metadata": {
  "kernelspec": {
   "display_name": "Python 3",
   "language": "python",
   "name": "python3"
  },
  "language_info": {
   "codemirror_mode": {
    "name": "ipython",
    "version": 3
   },
   "file_extension": ".py",
   "mimetype": "text/x-python",
   "name": "python",
   "nbconvert_exporter": "python",
   "pygments_lexer": "ipython3",
   "version": "3.9.5"
  },
  "orig_nbformat": 4
 },
 "nbformat": 4,
 "nbformat_minor": 2
}
